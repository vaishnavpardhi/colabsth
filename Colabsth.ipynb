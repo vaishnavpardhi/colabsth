{
  "nbformat": 4,
  "nbformat_minor": 0,
  "metadata": {
    "accelerator": "GPU",
    "colab": {
      "name": "Colabsth.ipynb",
      "provenance": [],
      "collapsed_sections": []
    },
    "kernelspec": {
      "display_name": "Python 3",
      "language": "python",
      "name": "python3"
    },
    "language_info": {
      "codemirror_mode": {
        "name": "ipython",
        "version": 3
      },
      "file_extension": ".py",
      "mimetype": "text/x-python",
      "name": "python",
      "nbconvert_exporter": "python",
      "pygments_lexer": "ipython3",
      "version": "3.9.2"
    }
  },
  "cells": [
    {
      "cell_type": "code",
      "metadata": {
        "colab": {
          "base_uri": "https://localhost:8080/"
        },
        "id": "siKsfdBRkAeJ",
        "outputId": "adc768b0-a6fa-413c-8e80-bf56e7c07201"
      },
      "source": [
        "#Create a directory with name sth in your Google drive\n",
        "from google.colab import drive\n",
        "#Mounting the gdrive,will ask for authorization code\n",
        "drive.mount('/content/drive')"
      ],
      "execution_count": 11,
      "outputs": [
        {
          "output_type": "stream",
          "text": [
            "Drive already mounted at /content/drive; to attempt to forcibly remount, call drive.mount(\"/content/drive\", force_remount=True).\n"
          ],
          "name": "stdout"
        }
      ]
    },
    {
      "cell_type": "code",
      "metadata": {
        "colab": {
          "base_uri": "https://localhost:8080/"
        },
        "id": "TaxRsePYn34F",
        "outputId": "1c928d08-a60f-4503-eacb-d03a5c0cbc4b"
      },
      "source": [
        "#check if sth directory is listed\n",
        "!ls /content/drive/MyDrive/\n",
        "#create symbolic link for easier call\n",
        "!ln -s /content/drive/MyDrive/sth /root/.sth\n",
        "#getting rockyou.txt\n",
        "!wget -q https://github.com/brannondorsey/naive-hashcat/releases/download/data/rockyou.txt -O /root/.sth/rockyou.txt\n"
      ],
      "execution_count": 23,
      "outputs": [
        {
          "output_type": "stream",
          "text": [
            "ln: failed to create symbolic link '/root/.sth': File exists\n",
            "/root/.sth/rockyou.txt: No such file or directory\n"
          ],
          "name": "stdout"
        }
      ]
    },
    {
      "cell_type": "code",
      "metadata": {
        "colab": {
          "base_uri": "https://localhost:8080/"
        },
        "id": "xX8YDASH56Ap",
        "outputId": "be68de40-1f56-4ce7-c9d2-55d88d79a626"
      },
      "source": [
        "#checking for available files\n",
        "!ls /root/.sth"
      ],
      "execution_count": 24,
      "outputs": [
        {
          "output_type": "stream",
          "text": [
            "/root/.sth\n"
          ],
          "name": "stdout"
        }
      ]
    },
    {
      "cell_type": "code",
      "metadata": {
        "colab": {
          "base_uri": "https://localhost:8080/"
        },
        "id": "9buTLNbe6vEn",
        "outputId": "4eae3448-e3b3-43a5-e84c-5de007a709e0"
      },
      "source": [
        "#installing hashcat queitly\n",
        "!apt-get -qq install cmake build-essential -y \n",
        "!apt-get -qq install checkinstall git -y\n",
        "!git clone https://github.com/hashcat/hashcat.git > /dev/null\n",
        "!cd hashcat && git submodule update --init && make && make install >/dev/null\n"
      ],
      "execution_count": 25,
      "outputs": [
        {
          "output_type": "stream",
          "text": [
            "fatal: destination path 'hashcat' already exists and is not an empty directory.\n",
            "make: Nothing to be done for 'default'.\n"
          ],
          "name": "stdout"
        }
      ]
    },
    {
      "cell_type": "code",
      "metadata": {
        "colab": {
          "base_uri": "https://localhost:8080/"
        },
        "id": "ls7RHdn-8kTM",
        "outputId": "14785dc8-4d33-4eca-bfa9-670d5b8e46c5"
      },
      "source": [
        "#checking for hashcat successful installation\n",
        "!hashcat --version"
      ],
      "execution_count": 26,
      "outputs": [
        {
          "output_type": "stream",
          "text": [
            "v6.1.1-120-g15bf8b730\n"
          ],
          "name": "stdout"
        }
      ]
    },
    {
      "cell_type": "code",
      "metadata": {
        "id": "GMkAKFTv8xVW"
      },
      "source": [
        "#installing search-that-hash\n",
        "!pip3 -q install search-that-hash"
      ],
      "execution_count": 27,
      "outputs": []
    },
    {
      "cell_type": "code",
      "metadata": {
        "colab": {
          "base_uri": "https://localhost:8080/"
        },
        "id": "OPoi0KIc9msp",
        "outputId": "90ac7514-80ad-4cef-ca55-1db1a3f728d3"
      },
      "source": [
        "#colabsth basic usage\n",
        "!sth -t \"5f4dcc3b5aa765d61d8327deb882cf99\"\n",
        "#please use charachter escaping with -t for hashes involving $"
      ],
      "execution_count": 28,
      "outputs": [
        {
          "output_type": "stream",
          "text": [
            "objs is [<name_that_hash.HashTypeObj.HashType object at 0x7f89162d3050>]\n",
            "\n",
            "\u001b[1;34m  _____                     _        _______ _           _          _    _      \u001b[0m\n",
            "\u001b[1;34m_\u001b[0m\n",
            "\u001b[1;34m / ____|                   | |      |__   __| |         | |        | |  | |     \u001b[0m\n",
            "\u001b[1;34m| |\u001b[0m\n",
            "\u001b[1;34m| (___   ___  __ _ _ __ ___| |__ ______| |  | |__   __ _| |_ ______| |__| | __ _\u001b[0m\n",
            "\u001b[1;34m___| |__\u001b[0m\n",
            "\u001b[1;34m \\___ \\ / _ \\/ _` | '__/ __| '_ \\______| |  | '_ \\ / _` | __|______|  __  |/ _` \u001b[0m\n",
            "\u001b[1;34m/ __| '_ \\\u001b[0m\n",
            "\u001b[1;34m ____) |  __/ (_| | | | (__| | | |     | |  | | | | (_| | |_       | |  | | (_| \u001b[0m\n",
            "\u001b[1;34m\\__ \\ | | |\u001b[0m\n",
            "\u001b[1;34m|_____/ \\___|\\__,_|_|  \\___|_| |_|     |_|  |_| |_|\\__,_|\\__|      |_|  \u001b[0m\n",
            "\u001b[1;34m|_|\\__,_|___/_| |_|\u001b[0m\n",
            "\u001b[1;34m        \u001b[0m\n",
            "\u001b[1;4;34mhttps://twitter.com/bee_sec_san\u001b[0m\n",
            "\u001b[1;4;34mhttps://github.com/HashPals/Search-That-Hash\u001b[0m\n",
            "\u001b[1;4;34mhttps://twitter.com/Jayy_2004\u001b[0m\n",
            "\n",
            "\n",
            "\u001b[1;30;101m5f4dcc3b5aa765d61d8327deb882cf99\u001b[0m\n",
            "\n",
            "\u001b[1;4;91mText\u001b[0m : \u001b[1;37;100mpassword\u001b[0m\n",
            "\u001b[1;4;91mType\u001b[0m : \u001b[1;37;100mMD5\u001b[0m\n"
          ],
          "name": "stdout"
        }
      ]
    },
    {
      "cell_type": "code",
      "metadata": {
        "colab": {
          "base_uri": "https://localhost:8080/"
        },
        "id": "ABaoY0gwAMgL",
        "outputId": "3bf014e1-cf96-4679-9449-7223962013e9"
      },
      "source": [
        "#colabsth advance usage with offline mode\n",
        "#Loading hash from a file,upload your hash file as .txt in drive sth directory\n",
        "!sth -f /root/.sth/hash.txt -o -w /root/.sth/rockyou.txt\n"
      ],
      "execution_count": 22,
      "outputs": [
        {
          "output_type": "stream",
          "text": [
            "Usage: sth [OPTIONS]\n",
            "Try 'sth --help' for help.\n",
            "\n",
            "Error: Invalid value for '-f' / '--file': Could not open file: /root/.sth/hash.txt: No such file or directory\n"
          ],
          "name": "stdout"
        }
      ]
    },
    {
      "cell_type": "code",
      "metadata": {
        "id": "VF6IZPNM3Nws"
      },
      "source": [
        ""
      ],
      "execution_count": null,
      "outputs": []
    }
  ]
}